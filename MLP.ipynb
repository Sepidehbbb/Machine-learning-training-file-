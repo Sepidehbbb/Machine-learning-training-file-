{
 "cells": [
  {
   "cell_type": "code",
   "id": "initial_id",
   "metadata": {
    "collapsed": true,
    "ExecuteTime": {
     "end_time": "2025-02-18T10:04:24.153645Z",
     "start_time": "2025-02-18T10:04:24.144662Z"
    }
   },
   "source": [
    "from matplotlib import pyplot as plt\n",
    "from sklearn.datasets import make_blobs\n",
    "from sklearn.model_selection import train_test_split\n",
    "from sklearn.preprocessing import StandardScaler\n",
    "from sklearn.neural_network import MLPClassifier\n",
    "from sklearn.metrics import accuracy_score, log_loss, classification_report\n",
    "import numpy as np\n",
    "import warnings\n",
    "warnings.filterwarnings('ignore')"
   ],
   "outputs": [],
   "execution_count": 4
  },
  {
   "metadata": {
    "ExecuteTime": {
     "end_time": "2025-02-18T10:04:24.728559Z",
     "start_time": "2025-02-18T10:04:24.613002Z"
    }
   },
   "cell_type": "code",
   "source": [
    "X,y = make_blobs(\n",
    "    n_samples=100000,\n",
    "    n_features=5,\n",
    "    centers=3,\n",
    "    cluster_std=1.5,\n",
    "    random_state=42\n",
    ")\n"
   ],
   "id": "9c54c098343f9ebc",
   "outputs": [],
   "execution_count": 5
  },
  {
   "metadata": {
    "jupyter": {
     "is_executing": true
    },
    "ExecuteTime": {
     "start_time": "2025-02-18T10:05:17.174673Z"
    }
   },
   "cell_type": "code",
   "source": [
    "x_train, x_test, y_train, y_test = train_test_split(X, y, test_size=0.2, stratify=y, random_state=42)\n",
    "\n",
    "model = MLPClassifier(\n",
    "    hidden_layer_sizes=(256,256),\n",
    "    activation=\"relu\",\n",
    "    solver=\"adam\",\n",
    "    learning_rate_init=0.001,\n",
    "    max_iter=1,\n",
    "    warm_start=True,\n",
    "    tol=0.001,\n",
    "    n_iter_no_change=3,\n",
    ")\n",
    "scores = []\n",
    "cost_function = []\n",
    "\n",
    "epochs = np.arange(1, 201)\n",
    "\n",
    "for epoch in epochs:\n",
    "    x_train_, x_val, y_train_, y_val = train_test_split(x_train, y_train, stratify=y_train, train_size=0.9, random_state=42)\n",
    "\n",
    "    model.fit(x_train_ , y_train_)\n",
    "\n",
    "    y_pred_train = model.predict(x_train_)\n",
    "    y_pred_val = model.predict(x_val)\n",
    "\n",
    "    train_accuracy = accuracy_score(y_train_, y_pred_train)\n",
    "    val_accuracy = accuracy_score(y_val, y_pred_val)\n",
    "\n",
    "    y_pred_train_proba = model.predict_proba(x_train_)\n",
    "    y_pred_val_proba = model.predict_proba(x_val)\n",
    "\n",
    "    train_loss = log_loss(y_train_, y_pred_train_proba)\n",
    "    val_loss = log_loss(y_val, y_pred_val_proba)\n",
    "\n",
    "    scores.append([train_accuracy, val_accuracy])\n",
    "    cost_function.append([train_loss, val_loss])\n",
    "    print(f\"epoch: {epoch}, accuracy: {train_accuracy:0.4f}, val_accuracy {val_accuracy:0.4f}, loss: {train_loss:0.4f}, val_loss: {val_loss:0.4f}\")\n",
    "\n"
   ],
   "id": "9297783e5539e1b9",
   "outputs": [
    {
     "name": "stdout",
     "output_type": "stream",
     "text": [
      "epoch: 1, accuracy: 0.9994, val_accuracy 0.9994, loss: 0.0019, val_loss: 0.0017\n",
      "epoch: 2, accuracy: 0.9996, val_accuracy 0.9996, loss: 0.0012, val_loss: 0.0008\n",
      "epoch: 3, accuracy: 0.9997, val_accuracy 0.9998, loss: 0.0011, val_loss: 0.0007\n",
      "epoch: 4, accuracy: 0.9997, val_accuracy 0.9996, loss: 0.0010, val_loss: 0.0006\n",
      "epoch: 5, accuracy: 0.9996, val_accuracy 0.9994, loss: 0.0013, val_loss: 0.0012\n",
      "epoch: 6, accuracy: 0.9996, val_accuracy 0.9994, loss: 0.0011, val_loss: 0.0011\n",
      "epoch: 7, accuracy: 0.9997, val_accuracy 0.9998, loss: 0.0009, val_loss: 0.0007\n",
      "epoch: 8, accuracy: 0.9996, val_accuracy 0.9995, loss: 0.0012, val_loss: 0.0012\n",
      "epoch: 9, accuracy: 0.9997, val_accuracy 0.9996, loss: 0.0010, val_loss: 0.0007\n",
      "epoch: 10, accuracy: 0.9994, val_accuracy 0.9990, loss: 0.0017, val_loss: 0.0019\n",
      "epoch: 11, accuracy: 0.9996, val_accuracy 0.9995, loss: 0.0011, val_loss: 0.0010\n",
      "epoch: 12, accuracy: 0.9998, val_accuracy 1.0000, loss: 0.0006, val_loss: 0.0003\n",
      "epoch: 13, accuracy: 0.9996, val_accuracy 0.9992, loss: 0.0012, val_loss: 0.0012\n",
      "epoch: 14, accuracy: 0.9998, val_accuracy 0.9999, loss: 0.0008, val_loss: 0.0007\n",
      "epoch: 15, accuracy: 0.9998, val_accuracy 1.0000, loss: 0.0006, val_loss: 0.0003\n",
      "epoch: 16, accuracy: 0.9998, val_accuracy 0.9998, loss: 0.0007, val_loss: 0.0004\n",
      "epoch: 17, accuracy: 0.9998, val_accuracy 1.0000, loss: 0.0005, val_loss: 0.0002\n",
      "epoch: 18, accuracy: 0.9996, val_accuracy 0.9999, loss: 0.0014, val_loss: 0.0008\n",
      "epoch: 19, accuracy: 0.9998, val_accuracy 0.9999, loss: 0.0006, val_loss: 0.0003\n",
      "epoch: 20, accuracy: 0.9997, val_accuracy 0.9998, loss: 0.0008, val_loss: 0.0006\n",
      "epoch: 21, accuracy: 0.9998, val_accuracy 0.9999, loss: 0.0006, val_loss: 0.0002\n",
      "epoch: 22, accuracy: 0.9996, val_accuracy 0.9998, loss: 0.0011, val_loss: 0.0006\n",
      "epoch: 23, accuracy: 0.9998, val_accuracy 0.9999, loss: 0.0005, val_loss: 0.0002\n",
      "epoch: 24, accuracy: 0.9998, val_accuracy 1.0000, loss: 0.0005, val_loss: 0.0002\n",
      "epoch: 25, accuracy: 0.9998, val_accuracy 0.9999, loss: 0.0005, val_loss: 0.0004\n",
      "epoch: 26, accuracy: 0.9996, val_accuracy 0.9999, loss: 0.0012, val_loss: 0.0006\n",
      "epoch: 27, accuracy: 0.9998, val_accuracy 1.0000, loss: 0.0004, val_loss: 0.0002\n",
      "epoch: 28, accuracy: 0.9998, val_accuracy 1.0000, loss: 0.0005, val_loss: 0.0002\n",
      "epoch: 29, accuracy: 0.9993, val_accuracy 0.9996, loss: 0.0020, val_loss: 0.0013\n",
      "epoch: 30, accuracy: 0.9997, val_accuracy 0.9998, loss: 0.0008, val_loss: 0.0007\n",
      "epoch: 31, accuracy: 0.9998, val_accuracy 0.9999, loss: 0.0005, val_loss: 0.0004\n",
      "epoch: 32, accuracy: 0.9997, val_accuracy 0.9999, loss: 0.0006, val_loss: 0.0005\n",
      "epoch: 33, accuracy: 0.9999, val_accuracy 1.0000, loss: 0.0004, val_loss: 0.0002\n",
      "epoch: 34, accuracy: 0.9996, val_accuracy 0.9995, loss: 0.0011, val_loss: 0.0010\n",
      "epoch: 35, accuracy: 0.9999, val_accuracy 1.0000, loss: 0.0004, val_loss: 0.0002\n",
      "epoch: 36, accuracy: 0.9998, val_accuracy 0.9999, loss: 0.0004, val_loss: 0.0003\n",
      "epoch: 37, accuracy: 0.9997, val_accuracy 0.9999, loss: 0.0006, val_loss: 0.0006\n"
     ]
    }
   ],
   "execution_count": null
  },
  {
   "metadata": {},
   "cell_type": "code",
   "source": [
    "scores = np.array(scores)\n",
    "cost_function = np.array(cost_function)\n",
    "\n",
    "y_pred = model.predict(x_test)\n",
    "print(classification_report(y_test, y_pred))\n",
    "\n",
    "plt.subplot(2,1,1)\n",
    "plt.title(\"Accuracy vs. Epochs\")\n",
    "plt.plot(scores[:,0], \"g\", label=\"train accuracy\")\n",
    "plt.plot(scores[:,1], \"g--\", label=\"validation accuracy\")\n",
    "plt.xlabel(\"epoch\")\n",
    "plt.ylabel(\"accuracy\")\n",
    "plt.xlim([-5,epochs.max() + 5])\n",
    "plt.ylim([-0.1, 1.1])\n",
    "plt.legend()\n",
    "\n",
    "plt.subplot(2,1,2)\n",
    "plt.title(\"Cost Function\")\n",
    "plt.plot(epochs, cost_function[:,0],\"r\", label=\"train loss\")\n",
    "plt.plot(epochs, cost_function[:,1],\"r--\", label=\"validation loss\")\n",
    "plt.xlabel(\"epoch\")\n",
    "plt.ylabel(\"loss\")\n",
    "plt.xlim([-5,epochs.max() + 5])\n",
    "plt.ylim([-0.1, 1.1])\n",
    "plt.legend()\n",
    "\n",
    "plt.show()"
   ],
   "id": "be10bf3fab545d0",
   "outputs": [],
   "execution_count": null
  }
 ],
 "metadata": {
  "kernelspec": {
   "display_name": "Python 3",
   "language": "python",
   "name": "python3"
  },
  "language_info": {
   "codemirror_mode": {
    "name": "ipython",
    "version": 2
   },
   "file_extension": ".py",
   "mimetype": "text/x-python",
   "name": "python",
   "nbconvert_exporter": "python",
   "pygments_lexer": "ipython2",
   "version": "2.7.6"
  }
 },
 "nbformat": 4,
 "nbformat_minor": 5
}
